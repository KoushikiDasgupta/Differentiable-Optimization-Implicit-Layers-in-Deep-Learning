{
 "cells": [
  {
   "cell_type": "markdown",
   "id": "de8639a4",
   "metadata": {},
   "source": [
    "# Generating dataset, preprocessing, forming train-test split"
   ]
  },
  {
   "cell_type": "code",
   "execution_count": 1,
   "id": "b7c6ec03",
   "metadata": {},
   "outputs": [
    {
     "data": {
      "image/png": "[encoded data removed]",
      "text/plain": [
       "<Figure size 432x288 with 1 Axes>"
      ]
     },
     "metadata": {
      "needs_background": "light"
     },
     "output_type": "display_data"
    }
   ],
   "source": [
    "import math\n",
    "import numpy as np\n",
    "import torch\n",
    "import matplotlib.pyplot as plt \n",
    "from tqdm import tqdm\n",
    "import time\n",
    "import numpy.random as npr\n",
    "import cvxpy as cp\n",
    "from cvxpylayers.torch import CvxpyLayer\n",
    "\n",
    "torch.set_default_tensor_type(torch.DoubleTensor)\n",
    "\n",
    "t = 0\n",
    "N = 20\n",
    "L = 2*math.pi\n",
    "x = torch.linspace(0,10,200)\n",
    "f = torch.tensor(0.0)\n",
    "del_x = x[4]-x[3]\n",
    "\n",
    "np.random.seed(0)\n",
    "for i in range(1,N+1):\n",
    "    A = np.random.uniform(low = -0.1, high = 0.1)\n",
    "    w = np.random.uniform(low = -0.4, high = 0.4)\n",
    "    phi = np.random.uniform(low = 0.0, high = 2*math.pi)\n",
    "    l = np.random.choice([2,3,4,5])\n",
    "    f = f + A*torch.sin(w*t + (2*math.pi*l*x)/L +phi)\n",
    "\n",
    "\n",
    "plt.plot(x,f,label = 'Original function')\n",
    "plt.xlabel('x')\n",
    "plt.ylabel('f(x,0)')\n",
    "plt.legend()\n",
    "\n",
    "N = f.size(0)\n",
    "testPct = 0.5     #train-test split\n",
    "nTrain = int(N*(1.-testPct))\n",
    "\n",
    "train_data = f[:nTrain].to(\"cuda\")\n",
    "test_data = f[nTrain:].to(\"cuda\")\n",
    "\n",
    "def make_patches(data):\n",
    "    inputs = torch.DoubleTensor(data.size(0)-2,2)\n",
    "    outputs = torch.DoubleTensor(data.size(0)-2,1)\n",
    "    inputs = inputs.cuda()\n",
    "    outputs = outputs.cuda()\n",
    "    inputs = torch.autograd.Variable(inputs, requires_grad=True)\n",
    "    outputs = torch.autograd.Variable(outputs, requires_grad=True)\n",
    "    for i in range(0, data.size(0)-2):\n",
    "        inputs.data[i] = torch.DoubleTensor([data[i],data[i+2]])\n",
    "        outputs.data[i] = data[i+1]\n",
    "        \n",
    "    return inputs,outputs"
   ]
  },
  {
   "cell_type": "markdown",
   "id": "a4c83c10",
   "metadata": {},
   "source": [
    "# Model Building and Training"
   ]
  },
  {
   "cell_type": "code",
   "execution_count": 2,
   "id": "7240b174",
   "metadata": {},
   "outputs": [
    {
     "name": "stderr",
     "output_type": "stream",
     "text": [
      "\r",
      "  0%|                                                                                          | 0/100 [00:00<?, ?it/s]"
     ]
    },
    {
     "name": "stdout",
     "output_type": "stream",
     "text": [
      "Epoch: 0 \tLoss: 0.0000\n"
     ]
    },
    {
     "name": "stderr",
     "output_type": "stream",
     "text": [
      "\r",
      "  1%|▊                                                                                 | 1/100 [00:02<04:32,  2.75s/it]"
     ]
    },
    {
     "name": "stdout",
     "output_type": "stream",
     "text": [
      "TEST SET RESULTS\n",
      "Average loss: 0.0000\n",
      "Epoch: 1 \tLoss: 0.0000\n"
     ]
    },
    {
     "name": "stderr",
     "output_type": "stream",
     "text": [
      "\r",
      "  2%|█▋                                                                                | 2/100 [00:04<03:22,  2.07s/it]"
     ]
    },
    {
     "name": "stdout",
     "output_type": "stream",
     "text": [
      "TEST SET RESULTS\n",
      "Average loss: 0.0000\n",
      "Epoch: 2 \tLoss: 0.0000\n"
     ]
    },
    {
     "name": "stderr",
     "output_type": "stream",
     "text": [
      "\r",
      "  3%|██▍                                                                               | 3/100 [00:05<02:57,  1.83s/it]"
     ]
    },
    {
     "name": "stdout",
     "output_type": "stream",
     "text": [
      "TEST SET RESULTS\n",
      "Average loss: 0.0000\n",
      "Epoch: 3 \tLoss: 0.0000\n"
     ]
    },
    {
     "name": "stderr",
     "output_type": "stream",
     "text": [
      "\r",
      "  4%|███▎                                                                              | 4/100 [00:07<02:45,  1.73s/it]"
     ]
    },
    {
     "name": "stdout",
     "output_type": "stream",
     "text": [
      "TEST SET RESULTS\n",
      "Average loss: 0.0000\n",
      "Epoch: 4 \tLoss: 0.0000\n"
     ]
    },
    {
     "name": "stderr",
     "output_type": "stream",
     "text": [
      "\r",
      "  5%|████                                                                              | 5/100 [00:09<02:38,  1.67s/it]"
     ]
    },
    {
     "name": "stdout",
     "output_type": "stream",
     "text": [
      "TEST SET RESULTS\n",
      "Average loss: 0.0000\n",
      "Epoch: 5 \tLoss: 0.0000\n"
     ]
    },
    {
     "name": "stderr",
     "output_type": "stream",
     "text": [
      "\r",
      "  6%|████▉                                                                             | 6/100 [00:10<02:32,  1.62s/it]"
     ]
    },
    {
     "name": "stdout",
     "output_type": "stream",
     "text": [
      "TEST SET RESULTS\n",
      "Average loss: 0.0000\n",
      "Epoch: 6 \tLoss: 0.0000\n"
     ]
    },
    {
     "name": "stderr",
     "output_type": "stream",
     "text": [
      "\r",
      "  7%|█████▋                                                                            | 7/100 [00:12<02:29,  1.60s/it]"
     ]
    },
    {
     "name": "stdout",
     "output_type": "stream",
     "text": [
      "TEST SET RESULTS\n",
      "Average loss: 0.0000\n",
      "Epoch: 7 \tLoss: 0.0000\n"
     ]
    },
    {
     "name": "stderr",
     "output_type": "stream",
     "text": [
      "\r",
      "  8%|██████▌                                                                           | 8/100 [00:13<02:26,  1.59s/it]"
     ]
    },
    {
     "name": "stdout",
     "output_type": "stream",
     "text": [
      "TEST SET RESULTS\n",
      "Average loss: 0.0000\n",
      "Epoch: 8 \tLoss: 0.0000\n"
     ]
    },
    {
     "name": "stderr",
     "output_type": "stream",
     "text": [
      "\r",
      "  9%|███████▍                                                                          | 9/100 [00:15<02:23,  1.58s/it]"
     ]
    },
    {
     "name": "stdout",
     "output_type": "stream",
     "text": [
      "TEST SET RESULTS\n",
      "Average loss: 0.0000\n",
      "Epoch: 9 \tLoss: 0.0000\n"
     ]
    },
    {
     "name": "stderr",
     "output_type": "stream",
     "text": [
      "\r",
      " 10%|████████                                                                         | 10/100 [00:16<02:21,  1.57s/it]"
     ]
    },
    {
     "name": "stdout",
     "output_type": "stream",
     "text": [
      "TEST SET RESULTS\n",
      "Average loss: 0.0000\n",
      "Epoch: 10 \tLoss: 0.0000\n"
     ]
    },
    {
     "name": "stderr",
     "output_type": "stream",
     "text": [
      "\r",
      " 11%|████████▉                                                                        | 11/100 [00:18<02:19,  1.57s/it]"
     ]
    },
    {
     "name": "stdout",
     "output_type": "stream",
     "text": [
      "TEST SET RESULTS\n",
      "Average loss: 0.0000\n",
      "Epoch: 11 \tLoss: 0.0000\n"
     ]
    },
    {
     "name": "stderr",
     "output_type": "stream",
     "text": [
      "\r",
      " 12%|█████████▋                                                                       | 12/100 [00:19<02:17,  1.56s/it]"
     ]
    },
    {
     "name": "stdout",
     "output_type": "stream",
     "text": [
      "TEST SET RESULTS\n",
      "Average loss: 0.0000\n",
      "Epoch: 12 \tLoss: 0.0000\n"
     ]
    },
    {
     "name": "stderr",
     "output_type": "stream",
     "text": [
      "\r",
      " 13%|██████████▌                                                                      | 13/100 [00:21<02:15,  1.56s/it]"
     ]
    },
    {
     "name": "stdout",
     "output_type": "stream",
     "text": [
      "TEST SET RESULTS\n",
      "Average loss: 0.0000\n",
      "Epoch: 13 \tLoss: 0.0000\n"
     ]
    },
    {
     "name": "stderr",
     "output_type": "stream",
     "text": [
      "\r",
      " 14%|███████████▎                                                                     | 14/100 [00:23<02:14,  1.57s/it]"
     ]
    },
    {
     "name": "stdout",
     "output_type": "stream",
     "text": [
      "TEST SET RESULTS\n",
      "Average loss: 0.0000\n",
      "Epoch: 14 \tLoss: 0.0000\n"
     ]
    },
    {
     "name": "stderr",
     "output_type": "stream",
     "text": [
      "\r",
      " 15%|████████████▏                                                                    | 15/100 [00:24<02:12,  1.56s/it]"
     ]
    },
    {
     "name": "stdout",
     "output_type": "stream",
     "text": [
      "TEST SET RESULTS\n",
      "Average loss: 0.0000\n",
      "Epoch: 15 \tLoss: 0.0000\n"
     ]
    },
    {
     "name": "stderr",
     "output_type": "stream",
     "text": [
      "\r",
      " 16%|████████████▉                                                                    | 16/100 [00:26<02:10,  1.56s/it]"
     ]
    },
    {
     "name": "stdout",
     "output_type": "stream",
     "text": [
      "TEST SET RESULTS\n",
      "Average loss: 0.0000\n",
      "Epoch: 16 \tLoss: 0.0000\n"
     ]
    },
    {
     "name": "stderr",
     "output_type": "stream",
     "text": [
      "\r",
      " 17%|█████████████▊                                                                   | 17/100 [00:27<02:08,  1.55s/it]"
     ]
    },
    {
     "name": "stdout",
     "output_type": "stream",
     "text": [
      "TEST SET RESULTS\n",
      "Average loss: 0.0000\n",
      "Epoch: 17 \tLoss: 0.0000\n"
     ]
    },
    {
     "name": "stderr",
     "output_type": "stream",
     "text": [
      "\r",
      " 18%|██████████████▌                                                                  | 18/100 [00:29<02:07,  1.55s/it]"
     ]
    },
    {
     "name": "stdout",
     "output_type": "stream",
     "text": [
      "TEST SET RESULTS\n",
      "Average loss: 0.0000\n",
      "Epoch: 18 \tLoss: 0.0000\n"
     ]
    },
    {
     "name": "stderr",
     "output_type": "stream",
     "text": [
      "\r",
      " 19%|███████████████▍                                                                 | 19/100 [00:30<02:05,  1.54s/it]"
     ]
    },
    {
     "name": "stdout",
     "output_type": "stream",
     "text": [
      "TEST SET RESULTS\n",
      "Average loss: 0.0000\n",
      "Epoch: 19 \tLoss: 0.0000\n"
     ]
    },
    {
     "name": "stderr",
     "output_type": "stream",
     "text": [
      "\r",
      " 20%|████████████████▏                                                                | 20/100 [00:32<02:03,  1.54s/it]"
     ]
    },
    {
     "name": "stdout",
     "output_type": "stream",
     "text": [
      "TEST SET RESULTS\n",
      "Average loss: 0.0000\n",
      "Epoch: 20 \tLoss: 0.0000\n"
     ]
    },
    {
     "name": "stderr",
     "output_type": "stream",
     "text": [
      "\r",
      " 21%|█████████████████                                                                | 21/100 [00:33<02:01,  1.54s/it]"
     ]
    },
    {
     "name": "stdout",
     "output_type": "stream",
     "text": [
      "TEST SET RESULTS\n",
      "Average loss: 0.0000\n",
      "Epoch: 21 \tLoss: 0.0000\n"
     ]
    },
    {
     "name": "stderr",
     "output_type": "stream",
     "text": [
      "\r",
      " 22%|█████████████████▊                                                               | 22/100 [00:35<02:01,  1.55s/it]"
     ]
    },
    {
     "name": "stdout",
     "output_type": "stream",
     "text": [
      "TEST SET RESULTS\n",
      "Average loss: 0.0000\n",
      "Epoch: 22 \tLoss: 0.0000\n"
     ]
    },
    {
     "name": "stderr",
     "output_type": "stream",
     "text": [
      "\r",
      " 23%|██████████████████▋                                                              | 23/100 [00:36<01:59,  1.55s/it]"
     ]
    },
    {
     "name": "stdout",
     "output_type": "stream",
     "text": [
      "TEST SET RESULTS\n",
      "Average loss: 0.0000\n",
      "Epoch: 23 \tLoss: 0.0000\n"
     ]
    },
    {
     "name": "stderr",
     "output_type": "stream",
     "text": [
      "\r",
      " 24%|███████████████████▍                                                             | 24/100 [00:38<01:58,  1.56s/it]"
     ]
    },
    {
     "name": "stdout",
     "output_type": "stream",
     "text": [
      "TEST SET RESULTS\n",
      "Average loss: 0.0000\n",
      "Epoch: 24 \tLoss: 0.0000\n"
     ]
    },
    {
     "name": "stderr",
     "output_type": "stream",
     "text": [
      "\r",
      " 25%|████████████████████▎                                                            | 25/100 [00:40<01:57,  1.56s/it]"
     ]
    },
    {
     "name": "stdout",
     "output_type": "stream",
     "text": [
      "TEST SET RESULTS\n",
      "Average loss: 0.0000\n",
      "Epoch: 25 \tLoss: 0.0000\n"
     ]
    },
    {
     "name": "stderr",
     "output_type": "stream",
     "text": [
      "\r",
      " 26%|█████████████████████                                                            | 26/100 [00:41<01:55,  1.56s/it]"
     ]
    },
    {
     "name": "stdout",
     "output_type": "stream",
     "text": [
      "TEST SET RESULTS\n",
      "Average loss: 0.0000\n",
      "Epoch: 26 \tLoss: 0.0000\n"
     ]
    },
    {
     "name": "stderr",
     "output_type": "stream",
     "text": [
      "\r",
      " 27%|█████████████████████▊                                                           | 27/100 [00:43<01:53,  1.56s/it]"
     ]
    },
    {
     "name": "stdout",
     "output_type": "stream",
     "text": [
      "TEST SET RESULTS\n",
      "Average loss: 0.0000\n",
      "Epoch: 27 \tLoss: 0.0000\n"
     ]
    },
    {
     "name": "stderr",
     "output_type": "stream",
     "text": [
      "\r",
      " 28%|██████████████████████▋                                                          | 28/100 [00:44<01:53,  1.58s/it]"
     ]
    },
    {
     "name": "stdout",
     "output_type": "stream",
     "text": [
      "TEST SET RESULTS\n",
      "Average loss: 0.0000\n",
      "Epoch: 28 \tLoss: 0.0000\n"
     ]
    },
    {
     "name": "stderr",
     "output_type": "stream",
     "text": [
      "\r",
      " 29%|███████████████████████▍                                                         | 29/100 [00:46<01:50,  1.56s/it]"
     ]
    },
    {
     "name": "stdout",
     "output_type": "stream",
     "text": [
      "TEST SET RESULTS\n",
      "Average loss: 0.0000\n",
      "Epoch: 29 \tLoss: 0.0000\n"
     ]
    },
    {
     "name": "stderr",
     "output_type": "stream",
     "text": [
      "\r",
      " 30%|████████████████████████▎                                                        | 30/100 [00:47<01:49,  1.57s/it]"
     ]
    },
    {
     "name": "stdout",
     "output_type": "stream",
     "text": [
      "TEST SET RESULTS\n",
      "Average loss: 0.0000\n",
      "Epoch: 30 \tLoss: 0.0000\n"
     ]
    },
    {
     "name": "stderr",
     "output_type": "stream",
     "text": [
      "\r",
      " 31%|█████████████████████████                                                        | 31/100 [00:49<01:47,  1.56s/it]"
     ]
    },
    {
     "name": "stdout",
     "output_type": "stream",
     "text": [
      "TEST SET RESULTS\n",
      "Average loss: 0.0000\n",
      "Epoch: 31 \tLoss: 0.0000\n"
     ]
    },
    {
     "name": "stderr",
     "output_type": "stream",
     "text": [
      "\r",
      " 32%|█████████████████████████▉                                                       | 32/100 [00:51<01:46,  1.56s/it]"
     ]
    },
    {
     "name": "stdout",
     "output_type": "stream",
     "text": [
      "TEST SET RESULTS\n",
      "Average loss: 0.0000\n",
      "Epoch: 32 \tLoss: 0.0000\n"
     ]
    },
    {
     "name": "stderr",
     "output_type": "stream",
     "text": [
      "\r",
      " 33%|██████████████████████████▋                                                      | 33/100 [00:52<01:44,  1.55s/it]"
     ]
    },
    {
     "name": "stdout",
     "output_type": "stream",
     "text": [
      "TEST SET RESULTS\n",
      "Average loss: 0.0000\n",
      "Epoch: 33 \tLoss: 0.0000\n"
     ]
    },
    {
     "name": "stderr",
     "output_type": "stream",
     "text": [
      "\r",
      " 34%|███████████████████████████▌                                                     | 34/100 [00:54<01:42,  1.55s/it]"
     ]
    },
    {
     "name": "stdout",
     "output_type": "stream",
     "text": [
      "TEST SET RESULTS\n",
      "Average loss: 0.0000\n",
      "Epoch: 34 \tLoss: 0.0000\n"
     ]
    },
    {
     "name": "stderr",
     "output_type": "stream",
     "text": [
      "\r",
      " 35%|████████████████████████████▎                                                    | 35/100 [00:55<01:40,  1.55s/it]"
     ]
    },
    {
     "name": "stdout",
     "output_type": "stream",
     "text": [
      "TEST SET RESULTS\n",
      "Average loss: 0.0000\n",
      "Epoch: 35 \tLoss: 0.0000\n"
     ]
    },
    {
     "name": "stderr",
     "output_type": "stream",
     "text": [
      "\r",
      " 36%|█████████████████████████████▏                                                   | 36/100 [00:57<01:39,  1.56s/it]"
     ]
    },
    {
     "name": "stdout",
     "output_type": "stream",
     "text": [
      "TEST SET RESULTS\n",
      "Average loss: 0.0000\n",
      "Epoch: 36 \tLoss: 0.0000\n"
     ]
    },
    {
     "name": "stderr",
     "output_type": "stream",
     "text": [
      "\r",
      " 37%|█████████████████████████████▉                                                   | 37/100 [00:58<01:38,  1.56s/it]"
     ]
    },
    {
     "name": "stdout",
     "output_type": "stream",
     "text": [
      "TEST SET RESULTS\n",
      "Average loss: 0.0000\n",
      "Epoch: 37 \tLoss: 0.0000\n"
     ]
    },
    {
     "name": "stderr",
     "output_type": "stream",
     "text": [
      "\r",
      " 38%|██████████████████████████████▊                                                  | 38/100 [01:00<01:36,  1.56s/it]"
     ]
    },
    {
     "name": "stdout",
     "output_type": "stream",
     "text": [
      "TEST SET RESULTS\n",
      "Average loss: 0.0000\n",
      "Epoch: 38 \tLoss: 0.0000\n"
     ]
    },
    {
     "name": "stderr",
     "output_type": "stream",
     "text": [
      "\r",
      " 39%|███████████████████████████████▌                                                 | 39/100 [01:01<01:34,  1.56s/it]"
     ]
    },
    {
     "name": "stdout",
     "output_type": "stream",
     "text": [
      "TEST SET RESULTS\n",
      "Average loss: 0.0000\n",
      "Epoch: 39 \tLoss: 0.0000\n"
     ]
    },
    {
     "name": "stderr",
     "output_type": "stream",
     "text": [
      "\r",
      " 40%|████████████████████████████████▍                                                | 40/100 [01:03<01:34,  1.57s/it]"
     ]
    },
    {
     "name": "stdout",
     "output_type": "stream",
     "text": [
      "TEST SET RESULTS\n",
      "Average loss: 0.0000\n",
      "Epoch: 40 \tLoss: 0.0000\n"
     ]
    },
    {
     "name": "stderr",
     "output_type": "stream",
     "text": [
      "\r",
      " 41%|█████████████████████████████████▏                                               | 41/100 [01:05<01:32,  1.57s/it]"
     ]
    },
    {
     "name": "stdout",
     "output_type": "stream",
     "text": [
      "TEST SET RESULTS\n",
      "Average loss: 0.0000\n",
      "Epoch: 41 \tLoss: 0.0000\n"
     ]
    },
    {
     "name": "stderr",
     "output_type": "stream",
     "text": [
      "\r",
      " 42%|██████████████████████████████████                                               | 42/100 [01:06<01:30,  1.56s/it]"
     ]
    },
    {
     "name": "stdout",
     "output_type": "stream",
     "text": [
      "TEST SET RESULTS\n",
      "Average loss: 0.0000\n",
      "Epoch: 42 \tLoss: 0.0000\n"
     ]
    },
    {
     "name": "stderr",
     "output_type": "stream",
     "text": [
      "\r",
      " 43%|██████████████████████████████████▊                                              | 43/100 [01:08<01:28,  1.56s/it]"
     ]
    },
    {
     "name": "stdout",
     "output_type": "stream",
     "text": [
      "TEST SET RESULTS\n",
      "Average loss: 0.0000\n",
      "Epoch: 43 \tLoss: 0.0000\n"
     ]
    },
    {
     "name": "stderr",
     "output_type": "stream",
     "text": [
      "\r",
      " 44%|███████████████████████████████████▋                                             | 44/100 [01:09<01:27,  1.56s/it]"
     ]
    },
    {
     "name": "stdout",
     "output_type": "stream",
     "text": [
      "TEST SET RESULTS\n",
      "Average loss: 0.0000\n",
      "Epoch: 44 \tLoss: 0.0000\n"
     ]
    },
    {
     "name": "stderr",
     "output_type": "stream",
     "text": [
      "\r",
      " 45%|████████████████████████████████████▍                                            | 45/100 [01:11<01:25,  1.55s/it]"
     ]
    },
    {
     "name": "stdout",
     "output_type": "stream",
     "text": [
      "TEST SET RESULTS\n",
      "Average loss: 0.0000\n",
      "Epoch: 45 \tLoss: 0.0000\n"
     ]
    },
    {
     "name": "stderr",
     "output_type": "stream",
     "text": [
      "\r",
      " 46%|█████████████████████████████████████▎                                           | 46/100 [01:12<01:23,  1.54s/it]"
     ]
    },
    {
     "name": "stdout",
     "output_type": "stream",
     "text": [
      "TEST SET RESULTS\n",
      "Average loss: 0.0000\n",
      "Epoch: 46 \tLoss: 0.0000\n"
     ]
    },
    {
     "name": "stderr",
     "output_type": "stream",
     "text": [
      "\r",
      " 47%|██████████████████████████████████████                                           | 47/100 [01:14<01:22,  1.55s/it]"
     ]
    },
    {
     "name": "stdout",
     "output_type": "stream",
     "text": [
      "TEST SET RESULTS\n",
      "Average loss: 0.0000\n",
      "Epoch: 47 \tLoss: 0.0000\n"
     ]
    },
    {
     "name": "stderr",
     "output_type": "stream",
     "text": [
      "\r",
      " 48%|██████████████████████████████████████▉                                          | 48/100 [01:15<01:20,  1.56s/it]"
     ]
    },
    {
     "name": "stdout",
     "output_type": "stream",
     "text": [
      "TEST SET RESULTS\n",
      "Average loss: 0.0000\n",
      "Epoch: 48 \tLoss: 0.0000\n"
     ]
    },
    {
     "name": "stderr",
     "output_type": "stream",
     "text": [
      "\r",
      " 49%|███████████████████████████████████████▋                                         | 49/100 [01:17<01:19,  1.56s/it]"
     ]
    },
    {
     "name": "stdout",
     "output_type": "stream",
     "text": [
      "TEST SET RESULTS\n",
      "Average loss: 0.0000\n",
      "Epoch: 49 \tLoss: 0.0000\n"
     ]
    },
    {
     "name": "stderr",
     "output_type": "stream",
     "text": [
      "\r",
      " 50%|████████████████████████████████████████▌                                        | 50/100 [01:19<01:18,  1.56s/it]"
     ]
    },
    {
     "name": "stdout",
     "output_type": "stream",
     "text": [
      "TEST SET RESULTS\n",
      "Average loss: 0.0000\n",
      "Epoch: 50 \tLoss: 0.0000\n"
     ]
    },
    {
     "name": "stderr",
     "output_type": "stream",
     "text": [
      "\r",
      " 51%|█████████████████████████████████████████▎                                       | 51/100 [01:20<01:16,  1.56s/it]"
     ]
    },
    {
     "name": "stdout",
     "output_type": "stream",
     "text": [
      "TEST SET RESULTS\n",
      "Average loss: 0.0000\n",
      "Epoch: 51 \tLoss: 0.0000\n"
     ]
    },
    {
     "name": "stderr",
     "output_type": "stream",
     "text": [
      "\r",
      " 52%|██████████████████████████████████████████                                       | 52/100 [01:22<01:15,  1.57s/it]"
     ]
    },
    {
     "name": "stdout",
     "output_type": "stream",
     "text": [
      "TEST SET RESULTS\n",
      "Average loss: 0.0000\n",
      "Epoch: 52 \tLoss: 0.0000\n"
     ]
    },
    {
     "name": "stderr",
     "output_type": "stream",
     "text": [
      "\r",
      " 53%|██████████████████████████████████████████▉                                      | 53/100 [01:23<01:13,  1.57s/it]"
     ]
    },
    {
     "name": "stdout",
     "output_type": "stream",
     "text": [
      "TEST SET RESULTS\n",
      "Average loss: 0.0000\n",
      "Epoch: 53 \tLoss: 0.0000\n"
     ]
    },
    {
     "name": "stderr",
     "output_type": "stream",
     "text": [
      "\r",
      " 54%|███████████████████████████████████████████▋                                     | 54/100 [01:25<01:11,  1.56s/it]"
     ]
    },
    {
     "name": "stdout",
     "output_type": "stream",
     "text": [
      "TEST SET RESULTS\n",
      "Average loss: 0.0000\n",
      "Epoch: 54 \tLoss: 0.0000\n"
     ]
    },
    {
     "name": "stderr",
     "output_type": "stream",
     "text": [
      "\r",
      " 55%|████████████████████████████████████████████▌                                    | 55/100 [01:26<01:10,  1.56s/it]"
     ]
    },
    {
     "name": "stdout",
     "output_type": "stream",
     "text": [
      "TEST SET RESULTS\n",
      "Average loss: 0.0000\n",
      "Epoch: 55 \tLoss: 0.0000\n"
     ]
    },
    {
     "name": "stderr",
     "output_type": "stream",
     "text": [
      "\r",
      " 56%|█████████████████████████████████████████████▎                                   | 56/100 [01:28<01:08,  1.55s/it]"
     ]
    },
    {
     "name": "stdout",
     "output_type": "stream",
     "text": [
      "TEST SET RESULTS\n",
      "Average loss: 0.0000\n",
      "Epoch: 56 \tLoss: 0.0000\n"
     ]
    },
    {
     "name": "stderr",
     "output_type": "stream",
     "text": [
      "\r",
      " 57%|██████████████████████████████████████████████▏                                  | 57/100 [01:29<01:06,  1.56s/it]"
     ]
    },
    {
     "name": "stdout",
     "output_type": "stream",
     "text": [
      "TEST SET RESULTS\n",
      "Average loss: 0.0000\n",
      "Epoch: 57 \tLoss: 0.0000\n"
     ]
    },
    {
     "name": "stderr",
     "output_type": "stream",
     "text": [
      "\r",
      " 58%|██████████████████████████████████████████████▉                                  | 58/100 [01:31<01:05,  1.56s/it]"
     ]
    },
    {
     "name": "stdout",
     "output_type": "stream",
     "text": [
      "TEST SET RESULTS\n",
      "Average loss: 0.0000\n",
      "Epoch: 58 \tLoss: 0.0000\n"
     ]
    },
    {
     "name": "stderr",
     "output_type": "stream",
     "text": [
      "\r",
      " 59%|███████████████████████████████████████████████▊                                 | 59/100 [01:33<01:03,  1.55s/it]"
     ]
    },
    {
     "name": "stdout",
     "output_type": "stream",
     "text": [
      "TEST SET RESULTS\n",
      "Average loss: 0.0000\n",
      "Epoch: 59 \tLoss: 0.0000\n"
     ]
    },
    {
     "name": "stderr",
     "output_type": "stream",
     "text": [
      "\r",
      " 60%|████████████████████████████████████████████████▌                                | 60/100 [01:34<01:01,  1.55s/it]"
     ]
    },
    {
     "name": "stdout",
     "output_type": "stream",
     "text": [
      "TEST SET RESULTS\n",
      "Average loss: 0.0000\n",
      "Epoch: 60 \tLoss: 0.0000\n"
     ]
    },
    {
     "name": "stderr",
     "output_type": "stream",
     "text": [
      "\r",
      " 61%|█████████████████████████████████████████████████▍                               | 61/100 [01:36<01:00,  1.54s/it]"
     ]
    },
    {
     "name": "stdout",
     "output_type": "stream",
     "text": [
      "TEST SET RESULTS\n",
      "Average loss: 0.0000\n",
      "Epoch: 61 \tLoss: 0.0000\n"
     ]
    },
    {
     "name": "stderr",
     "output_type": "stream",
     "text": [
      "\r",
      " 62%|██████████████████████████████████████████████████▏                              | 62/100 [01:37<00:58,  1.54s/it]"
     ]
    },
    {
     "name": "stdout",
     "output_type": "stream",
     "text": [
      "TEST SET RESULTS\n",
      "Average loss: 0.0000\n",
      "Epoch: 62 \tLoss: 0.0000\n"
     ]
    },
    {
     "name": "stderr",
     "output_type": "stream",
     "text": [
      "\r",
      " 63%|███████████████████████████████████████████████████                              | 63/100 [01:39<00:56,  1.53s/it]"
     ]
    },
    {
     "name": "stdout",
     "output_type": "stream",
     "text": [
      "TEST SET RESULTS\n",
      "Average loss: 0.0000\n",
      "Epoch: 63 \tLoss: 0.0000\n"
     ]
    },
    {
     "name": "stderr",
     "output_type": "stream",
     "text": [
      "\r",
      " 64%|███████████████████████████████████████████████████▊                             | 64/100 [01:40<00:55,  1.54s/it]"
     ]
    },
    {
     "name": "stdout",
     "output_type": "stream",
     "text": [
      "TEST SET RESULTS\n",
      "Average loss: 0.0000\n",
      "Epoch: 64 \tLoss: 0.0000\n"
     ]
    },
    {
     "name": "stderr",
     "output_type": "stream",
     "text": [
      "\r",
      " 65%|████████████████████████████████████████████████████▋                            | 65/100 [01:42<00:53,  1.54s/it]"
     ]
    },
    {
     "name": "stdout",
     "output_type": "stream",
     "text": [
      "TEST SET RESULTS\n",
      "Average loss: 0.0000\n",
      "Epoch: 65 \tLoss: 0.0000\n"
     ]
    },
    {
     "name": "stderr",
     "output_type": "stream",
     "text": [
      "\r",
      " 66%|█████████████████████████████████████████████████████▍                           | 66/100 [01:43<00:52,  1.54s/it]"
     ]
    },
    {
     "name": "stdout",
     "output_type": "stream",
     "text": [
      "TEST SET RESULTS\n",
      "Average loss: 0.0000\n",
      "Epoch: 66 \tLoss: 0.0000\n"
     ]
    },
    {
     "name": "stderr",
     "output_type": "stream",
     "text": [
      "\r",
      " 67%|██████████████████████████████████████████████████████▎                          | 67/100 [01:45<00:50,  1.53s/it]"
     ]
    },
    {
     "name": "stdout",
     "output_type": "stream",
     "text": [
      "TEST SET RESULTS\n",
      "Average loss: 0.0000\n",
      "Epoch: 67 \tLoss: 0.0000\n"
     ]
    },
    {
     "name": "stderr",
     "output_type": "stream",
     "text": [
      "\r",
      " 68%|███████████████████████████████████████████████████████                          | 68/100 [01:46<00:49,  1.53s/it]"
     ]
    },
    {
     "name": "stdout",
     "output_type": "stream",
     "text": [
      "TEST SET RESULTS\n",
      "Average loss: 0.0000\n",
      "Epoch: 68 \tLoss: 0.0000\n"
     ]
    },
    {
     "name": "stderr",
     "output_type": "stream",
     "text": [
      "\r",
      " 69%|███████████████████████████████████████████████████████▉                         | 69/100 [01:48<00:47,  1.53s/it]"
     ]
    },
    {
     "name": "stdout",
     "output_type": "stream",
     "text": [
      "TEST SET RESULTS\n",
      "Average loss: 0.0000\n",
      "Epoch: 69 \tLoss: 0.0000\n"
     ]
    },
    {
     "name": "stderr",
     "output_type": "stream",
     "text": [
      "\r",
      " 70%|████████████████████████████████████████████████████████▋                        | 70/100 [01:50<00:46,  1.56s/it]"
     ]
    },
    {
     "name": "stdout",
     "output_type": "stream",
     "text": [
      "TEST SET RESULTS\n",
      "Average loss: 0.0000\n",
      "Epoch: 70 \tLoss: 0.0000\n"
     ]
    },
    {
     "name": "stderr",
     "output_type": "stream",
     "text": [
      "\r",
      " 71%|█████████████████████████████████████████████████████████▌                       | 71/100 [01:51<00:44,  1.55s/it]"
     ]
    },
    {
     "name": "stdout",
     "output_type": "stream",
     "text": [
      "TEST SET RESULTS\n",
      "Average loss: 0.0000\n",
      "Epoch: 71 \tLoss: 0.0000\n"
     ]
    },
    {
     "name": "stderr",
     "output_type": "stream",
     "text": [
      "\r",
      " 72%|██████████████████████████████████████████████████████████▎                      | 72/100 [01:53<00:43,  1.55s/it]"
     ]
    },
    {
     "name": "stdout",
     "output_type": "stream",
     "text": [
      "TEST SET RESULTS\n",
      "Average loss: 0.0000\n",
      "Epoch: 72 \tLoss: 0.0000\n"
     ]
    },
    {
     "name": "stderr",
     "output_type": "stream",
     "text": [
      "\r",
      " 73%|███████████████████████████████████████████████████████████▏                     | 73/100 [01:54<00:41,  1.54s/it]"
     ]
    },
    {
     "name": "stdout",
     "output_type": "stream",
     "text": [
      "TEST SET RESULTS\n",
      "Average loss: 0.0000\n",
      "Epoch: 73 \tLoss: 0.0000\n"
     ]
    },
    {
     "name": "stderr",
     "output_type": "stream",
     "text": [
      "\r",
      " 74%|███████████████████████████████████████████████████████████▉                     | 74/100 [01:56<00:40,  1.54s/it]"
     ]
    },
    {
     "name": "stdout",
     "output_type": "stream",
     "text": [
      "TEST SET RESULTS\n",
      "Average loss: 0.0000\n",
      "Epoch: 74 \tLoss: 0.0000\n"
     ]
    },
    {
     "name": "stderr",
     "output_type": "stream",
     "text": [
      "\r",
      " 75%|████████████████████████████████████████████████████████████▊                    | 75/100 [01:57<00:38,  1.54s/it]"
     ]
    },
    {
     "name": "stdout",
     "output_type": "stream",
     "text": [
      "TEST SET RESULTS\n",
      "Average loss: 0.0000\n",
      "Epoch: 75 \tLoss: 0.0000\n"
     ]
    },
    {
     "name": "stderr",
     "output_type": "stream",
     "text": [
      "\r",
      " 76%|█████████████████████████████████████████████████████████████▌                   | 76/100 [01:59<00:37,  1.54s/it]"
     ]
    },
    {
     "name": "stdout",
     "output_type": "stream",
     "text": [
      "TEST SET RESULTS\n",
      "Average loss: 0.0000\n",
      "Epoch: 76 \tLoss: 0.0000\n"
     ]
    },
    {
     "name": "stderr",
     "output_type": "stream",
     "text": [
      "\r",
      " 77%|██████████████████████████████████████████████████████████████▎                  | 77/100 [02:00<00:35,  1.54s/it]"
     ]
    },
    {
     "name": "stdout",
     "output_type": "stream",
     "text": [
      "TEST SET RESULTS\n",
      "Average loss: 0.0000\n",
      "Epoch: 77 \tLoss: 0.0000\n"
     ]
    },
    {
     "name": "stderr",
     "output_type": "stream",
     "text": [
      "\r",
      " 78%|███████████████████████████████████████████████████████████████▏                 | 78/100 [02:02<00:33,  1.54s/it]"
     ]
    },
    {
     "name": "stdout",
     "output_type": "stream",
     "text": [
      "TEST SET RESULTS\n",
      "Average loss: 0.0000\n",
      "Epoch: 78 \tLoss: 0.0000\n"
     ]
    },
    {
     "name": "stderr",
     "output_type": "stream",
     "text": [
      "\r",
      " 79%|███████████████████████████████████████████████████████████████▉                 | 79/100 [02:03<00:32,  1.53s/it]"
     ]
    },
    {
     "name": "stdout",
     "output_type": "stream",
     "text": [
      "TEST SET RESULTS\n",
      "Average loss: 0.0000\n",
      "Epoch: 79 \tLoss: 0.0000\n"
     ]
    },
    {
     "name": "stderr",
     "output_type": "stream",
     "text": [
      "\r",
      " 80%|████████████████████████████████████████████████████████████████▊                | 80/100 [02:05<00:30,  1.54s/it]"
     ]
    },
    {
     "name": "stdout",
     "output_type": "stream",
     "text": [
      "TEST SET RESULTS\n",
      "Average loss: 0.0000\n",
      "Epoch: 80 \tLoss: 0.0000\n"
     ]
    },
    {
     "name": "stderr",
     "output_type": "stream",
     "text": [
      "\r",
      " 81%|█████████████████████████████████████████████████████████████████▌               | 81/100 [02:06<00:29,  1.54s/it]"
     ]
    },
    {
     "name": "stdout",
     "output_type": "stream",
     "text": [
      "TEST SET RESULTS\n",
      "Average loss: 0.0000\n",
      "Epoch: 81 \tLoss: 0.0000\n"
     ]
    },
    {
     "name": "stderr",
     "output_type": "stream",
     "text": [
      "\r",
      " 82%|██████████████████████████████████████████████████████████████████▍              | 82/100 [02:08<00:27,  1.56s/it]"
     ]
    },
    {
     "name": "stdout",
     "output_type": "stream",
     "text": [
      "TEST SET RESULTS\n",
      "Average loss: 0.0000\n",
      "Epoch: 82 \tLoss: 0.0000\n"
     ]
    },
    {
     "name": "stderr",
     "output_type": "stream",
     "text": [
      "\r",
      " 83%|███████████████████████████████████████████████████████████████████▏             | 83/100 [02:10<00:26,  1.59s/it]"
     ]
    },
    {
     "name": "stdout",
     "output_type": "stream",
     "text": [
      "TEST SET RESULTS\n",
      "Average loss: 0.0000\n",
      "Epoch: 83 \tLoss: 0.0000\n"
     ]
    },
    {
     "name": "stderr",
     "output_type": "stream",
     "text": [
      "\r",
      " 84%|████████████████████████████████████████████████████████████████████             | 84/100 [02:11<00:25,  1.57s/it]"
     ]
    },
    {
     "name": "stdout",
     "output_type": "stream",
     "text": [
      "TEST SET RESULTS\n",
      "Average loss: 0.0000\n",
      "Epoch: 84 \tLoss: 0.0000\n"
     ]
    },
    {
     "name": "stderr",
     "output_type": "stream",
     "text": [
      "\r",
      " 85%|████████████████████████████████████████████████████████████████████▊            | 85/100 [02:13<00:23,  1.57s/it]"
     ]
    },
    {
     "name": "stdout",
     "output_type": "stream",
     "text": [
      "TEST SET RESULTS\n",
      "Average loss: 0.0000\n",
      "Epoch: 85 \tLoss: 0.0000\n"
     ]
    },
    {
     "name": "stderr",
     "output_type": "stream",
     "text": [
      "\r",
      " 86%|█████████████████████████████████████████████████████████████████████▋           | 86/100 [02:14<00:21,  1.56s/it]"
     ]
    },
    {
     "name": "stdout",
     "output_type": "stream",
     "text": [
      "TEST SET RESULTS\n",
      "Average loss: 0.0000\n",
      "Epoch: 86 \tLoss: 0.0000\n"
     ]
    },
    {
     "name": "stderr",
     "output_type": "stream",
     "text": [
      "\r",
      " 87%|██████████████████████████████████████████████████████████████████████▍          | 87/100 [02:16<00:20,  1.55s/it]"
     ]
    },
    {
     "name": "stdout",
     "output_type": "stream",
     "text": [
      "TEST SET RESULTS\n",
      "Average loss: 0.0000\n",
      "Epoch: 87 \tLoss: 0.0000\n"
     ]
    },
    {
     "name": "stderr",
     "output_type": "stream",
     "text": [
      "\r",
      " 88%|███████████████████████████████████████████████████████████████████████▎         | 88/100 [02:17<00:18,  1.56s/it]"
     ]
    },
    {
     "name": "stdout",
     "output_type": "stream",
     "text": [
      "TEST SET RESULTS\n",
      "Average loss: 0.0000\n",
      "Epoch: 88 \tLoss: 0.0000\n"
     ]
    },
    {
     "name": "stderr",
     "output_type": "stream",
     "text": [
      "\r",
      " 89%|████████████████████████████████████████████████████████████████████████         | 89/100 [02:19<00:17,  1.56s/it]"
     ]
    },
    {
     "name": "stdout",
     "output_type": "stream",
     "text": [
      "TEST SET RESULTS\n",
      "Average loss: 0.0000\n",
      "Epoch: 89 \tLoss: 0.0000\n"
     ]
    },
    {
     "name": "stderr",
     "output_type": "stream",
     "text": [
      "\r",
      " 90%|████████████████████████████████████████████████████████████████████████▉        | 90/100 [02:21<00:15,  1.57s/it]"
     ]
    },
    {
     "name": "stdout",
     "output_type": "stream",
     "text": [
      "TEST SET RESULTS\n",
      "Average loss: 0.0000\n",
      "Epoch: 90 \tLoss: 0.0000\n"
     ]
    },
    {
     "name": "stderr",
     "output_type": "stream",
     "text": [
      "\r",
      " 91%|█████████████████████████████████████████████████████████████████████████▋       | 91/100 [02:22<00:14,  1.57s/it]"
     ]
    },
    {
     "name": "stdout",
     "output_type": "stream",
     "text": [
      "TEST SET RESULTS\n",
      "Average loss: 0.0000\n",
      "Epoch: 91 \tLoss: 0.0000\n"
     ]
    },
    {
     "name": "stderr",
     "output_type": "stream",
     "text": [
      "\r",
      " 92%|██████████████████████████████████████████████████████████████████████████▌      | 92/100 [02:24<00:12,  1.57s/it]"
     ]
    },
    {
     "name": "stdout",
     "output_type": "stream",
     "text": [
      "TEST SET RESULTS\n",
      "Average loss: 0.0000\n",
      "Epoch: 92 \tLoss: 0.0000\n"
     ]
    },
    {
     "name": "stderr",
     "output_type": "stream",
     "text": [
      "\r",
      " 93%|███████████████████████████████████████████████████████████████████████████▎     | 93/100 [02:25<00:11,  1.58s/it]"
     ]
    },
    {
     "name": "stdout",
     "output_type": "stream",
     "text": [
      "TEST SET RESULTS\n",
      "Average loss: 0.0000\n",
      "Epoch: 93 \tLoss: 0.0000\n"
     ]
    },
    {
     "name": "stderr",
     "output_type": "stream",
     "text": [
      "\r",
      " 94%|████████████████████████████████████████████████████████████████████████████▏    | 94/100 [02:27<00:09,  1.57s/it]"
     ]
    },
    {
     "name": "stdout",
     "output_type": "stream",
     "text": [
      "TEST SET RESULTS\n",
      "Average loss: 0.0000\n",
      "Epoch: 94 \tLoss: 0.0000\n"
     ]
    },
    {
     "name": "stderr",
     "output_type": "stream",
     "text": [
      "\r",
      " 95%|████████████████████████████████████████████████████████████████████████████▉    | 95/100 [02:28<00:07,  1.57s/it]"
     ]
    },
    {
     "name": "stdout",
     "output_type": "stream",
     "text": [
      "TEST SET RESULTS\n",
      "Average loss: 0.0000\n",
      "Epoch: 95 \tLoss: 0.0000\n"
     ]
    },
    {
     "name": "stderr",
     "output_type": "stream",
     "text": [
      "\r",
      " 96%|█████████████████████████████████████████████████████████████████████████████▊   | 96/100 [02:30<00:06,  1.56s/it]"
     ]
    },
    {
     "name": "stdout",
     "output_type": "stream",
     "text": [
      "TEST SET RESULTS\n",
      "Average loss: 0.0000\n",
      "Epoch: 96 \tLoss: 0.0000\n"
     ]
    },
    {
     "name": "stderr",
     "output_type": "stream",
     "text": [
      "\r",
      " 97%|██████████████████████████████████████████████████████████████████████████████▌  | 97/100 [02:32<00:04,  1.56s/it]"
     ]
    },
    {
     "name": "stdout",
     "output_type": "stream",
     "text": [
      "TEST SET RESULTS\n",
      "Average loss: 0.0000\n",
      "Epoch: 97 \tLoss: 0.0000\n"
     ]
    },
    {
     "name": "stderr",
     "output_type": "stream",
     "text": [
      "\r",
      " 98%|███████████████████████████████████████████████████████████████████████████████▍ | 98/100 [02:33<00:03,  1.56s/it]"
     ]
    },
    {
     "name": "stdout",
     "output_type": "stream",
     "text": [
      "TEST SET RESULTS\n",
      "Average loss: 0.0000\n",
      "Epoch: 98 \tLoss: 0.0000\n"
     ]
    },
    {
     "name": "stderr",
     "output_type": "stream",
     "text": [
      "\r",
      " 99%|████████████████████████████████████████████████████████████████████████████████▏| 99/100 [02:35<00:01,  1.57s/it]"
     ]
    },
    {
     "name": "stdout",
     "output_type": "stream",
     "text": [
      "TEST SET RESULTS\n",
      "Average loss: 0.0000\n",
      "Epoch: 99 \tLoss: 0.0000\n"
     ]
    },
    {
     "name": "stderr",
     "output_type": "stream",
     "text": [
      "100%|████████████████████████████████████████████████████████████████████████████████| 100/100 [02:36<00:00,  1.57s/it]"
     ]
    },
    {
     "name": "stdout",
     "output_type": "stream",
     "text": [
      "TEST SET RESULTS\n",
      "Average loss: 0.0000\n",
      "Training time :  156.78676056861877\n",
      "Test loss after 100 epochs: 1.4612311207413484e-05\n",
      "Training loss after 100 epochs: 1.2635717937074274e-05\n"
     ]
    },
    {
     "name": "stderr",
     "output_type": "stream",
     "text": [
      "\n"
     ]
    }
   ],
   "source": [
    "class Reconstruct(torch.nn.Module):\n",
    "    def __init__(self,seed = 0):\n",
    "        super().__init__()\n",
    "        torch.manual_seed(seed)                               #input dim is (1,1,data_len)  \n",
    "        self.layer1 = torch.nn.Conv1d(1,4,2,dilation = 2)     #4 filters with filter size 2 each with 2 dilation, output of this layer is (1,4,data_len-2) \n",
    "        self.layer2 = torch.nn.Linear(4,2)                    #input to this layer gets changed to (data_len-2,1,4) ;output of this layer is (data_len-2,1,2)\n",
    "        self.D = torch.DoubleTensor([[1,1],[del_x,((-1)*del_x)]]).to(\"cuda\")\n",
    "        self.beta = torch.DoubleTensor([1,0]).to(\"cuda\")\n",
    "        z = cp.Variable(2)\n",
    "        D = cp.Parameter((2,2))\n",
    "        beta = cp.Parameter(2)\n",
    "        x = cp.Parameter(2)\n",
    "        objective = (cp.sum_squares(D @ z - beta))     #L2 norm square used\n",
    "        constraints = [(z - x) <= 1e-1,\n",
    "                       (z - x) >= -1e-1]\n",
    "        problem = cp.Problem(cp.Minimize(objective),constraints)\n",
    "        self.layer = CvxpyLayer(problem, parameters = [D,beta,x],\n",
    "                      variables = [z])\n",
    "        \n",
    "    def forward(self,x):\n",
    "        x = self.layer1(x)\n",
    "        x = x.view(x.size(2),1,x.size(1))\n",
    "        x = torch.nn.functional.elu(self.layer2(x))\n",
    "        x = x.view(x.size(0),x.size(2))\n",
    "        # when x is batched, repeat D and beta \n",
    "        if x.ndim == 2:\n",
    "            batch_size = x.shape[0]\n",
    "            return self.layer(self.D.repeat(batch_size, 1, 1), self.beta.repeat(batch_size, 1), x)[0]\n",
    "        else:\n",
    "            return self.layer(self.D, self.beta, x)[0]\n",
    "        \n",
    "def train(epoch,model,optimizer,train_data,train_inputs,train_outputs):\n",
    "        \n",
    "    optimizer.zero_grad()\n",
    "    pred = model(train_data)\n",
    "    loss = torch.nn.MSELoss()((pred*train_inputs).sum(1), train_outputs.flatten())\n",
    "    loss.backward()\n",
    "    optimizer.step()\n",
    "    print('Epoch: {} \\tLoss: {:.4f}'.format(epoch, loss))\n",
    "    \n",
    "    return loss.item()\n",
    "    \n",
    "def test(epoch,model,optimizer,test_data,test_inputs,test_outputs):\n",
    "\n",
    "    pred = model(test_data) \n",
    "    loss = torch.nn.MSELoss()((pred*test_inputs).sum(1), test_outputs.flatten())\n",
    "    \n",
    "    print('TEST SET RESULTS')\n",
    "    print('Average loss: {:.4f}'.format(loss))\n",
    "    \n",
    "    return loss.item()\n",
    "\n",
    "seed = 1\n",
    "\n",
    "np.random.seed(seed)\n",
    "torch.manual_seed(seed)\n",
    "\n",
    "torch.backends.cudnn.deterministic = True\n",
    "torch.backends.cudnn.benchmark = False\n",
    "\n",
    "model = Reconstruct(seed = seed)\n",
    "if torch.cuda.is_available():\n",
    "    model = model.cuda()\n",
    "optimizer = torch.optim.Adam(model.parameters(), lr=1e-3)\n",
    "\n",
    "\n",
    "train_inputs, train_outputs = make_patches(train_data)\n",
    "test_inputs, test_outputs = make_patches(test_data)\n",
    "train_data = train_data.view(1,1,train_data.size(0))\n",
    "test_data = train_data.view(1,1,test_data.size(0))\n",
    "test_loss = []\n",
    "train_loss = []\n",
    "epochs = 100\n",
    "start = time.time()\n",
    "for epoch in tqdm(range(epochs)):\n",
    "    trainloss = train(epoch,model,optimizer,train_data,train_inputs,train_outputs)\n",
    "    testloss = test(epoch,model,optimizer,test_data,test_inputs,test_outputs)\n",
    "    test_loss.append(testloss)\n",
    "    train_loss.append(trainloss)\n",
    "\n",
    "print (\"Training time : \",time.time()-start)\n",
    "print(\"Test loss after 100 epochs:\",test_loss[-1])\n",
    "print(\"Training loss after 100 epochs:\",train_loss[-1])"
   ]
  },
  {
   "cell_type": "markdown",
   "id": "b9debd8f",
   "metadata": {},
   "source": [
    "# Plotting outputs"
   ]
  },
  {
   "cell_type": "code",
   "execution_count": 3,
   "id": "bc9ebbce",
   "metadata": {},
   "outputs": [
    {
     "data": {
      "text/plain": [
       "Text(0.5, 1.0, 'Sum of 1st order moments for CNN network with moment constraints')"
      ]
     },
     "execution_count": 3,
     "metadata": {},
     "output_type": "execute_result"
    },
    {
     "data": {
      "image/png": "[encoded data removed]",
      "text/plain": [
       "<Figure size 1296x1152 with 6 Axes>"
      ]
     },
     "metadata": {
      "needs_background": "light"
     },
     "output_type": "display_data"
    }
   ],
   "source": [
    "fig, ax = plt.subplots(3, 2)\n",
    "fig.set_figwidth(18)\n",
    "fig.set_figheight(16)\n",
    "\n",
    "ax[0,0].plot(torch.DoubleTensor(test_loss),label = \"Test Loss\")\n",
    "ax[0,0].plot(torch.DoubleTensor(train_loss),label = \"Train Loss\")\n",
    "ax[0,0].legend(loc = \"upper right\")\n",
    "ax[0,0].set_xlabel(\"Epochs\")\n",
    "ax[0,0].set_ylabel(\"MSE Loss\")\n",
    "ax[0,0].set_title(\"Loss trajectories for CNN network + CvxpyLayer\")\n",
    "\n",
    "pred = model(test_data) \n",
    "pred = pred.cpu().detach().numpy()\n",
    "test_inputs = test_inputs.to('cpu').detach().numpy()\n",
    "test_outputs = test_outputs.to('cpu').detach().numpy()\n",
    "ax[0,1].plot(x[-99:-1],(pred*test_inputs).sum(1),label = 'Predicted function')\n",
    "ax[0,1].plot(x[-99:-1],test_outputs.flatten(),label = 'Original function')\n",
    "ax[0,1].legend()\n",
    "ax[0,1].set_title(\"Prediction plot with CNN network with moment constraints\")\n",
    "\n",
    "ax[1,0].plot(pred[:,0],pred[:,1],label = 'Predicted coefficients')\n",
    "ax[1,0].legend()\n",
    "ax[1,0].set_xlabel('$\\epsilon_{-1}$')\n",
    "ax[1,0].set_ylabel('$\\epsilon_{+1}$')\n",
    "ax[1,0].set_title(\"Visualising predicted coefficients for CNN network with moment constraints\")\n",
    "\n",
    "ax[1,1].plot(x[-99:-1],pred[:,0]+pred[:,1])\n",
    "ax[1,1].set_title(\"Sum of 0th order moments for CNN network with moment constraints\")\n",
    "\n",
    "ax[2,0].plot(x[-99:-1],(pred*test_inputs).sum(1),label = 'Predicted function',color = 'red')\n",
    "ax[2,0].plot(x,f,label = 'Full Original function',color = 'blue',linestyle = 'dashed')\n",
    "ax[2,0].legend()\n",
    "ax[2,0].set_title(\"Prediction plot with CNN network with moment constraints\")\n",
    "\n",
    "ax[2,1].plot(x[-99:-1],(del_x)*pred[:,0]+(-del_x)*pred[:,1])\n",
    "ax[2,1].set_title(\"Sum of 1st order moments for CNN network with moment constraints\")"
   ]
  },
  {
   "cell_type": "markdown",
   "id": "86900f81",
   "metadata": {},
   "source": [
    "# Storing predicted coefficients in text file"
   ]
  },
  {
   "cell_type": "code",
   "execution_count": 16,
   "id": "a04eeca2",
   "metadata": {},
   "outputs": [],
   "source": [
    "f = open(\"Predicted_coefficients_test_set_without_Cvxpy.txt\",'w')\n",
    "for i in pred:\n",
    "    f.write(str(i) + \"\\n\")\n",
    "f.close()"
   ]
  },
  {
   "cell_type": "code",
   "execution_count": null,
   "id": "e306ba8c",
   "metadata": {},
   "outputs": [],
   "source": []
  }
 ],
 "metadata": {
  "kernelspec": {
   "display_name": "Python 3",
   "language": "python",
   "name": "python3"
  },
  "language_info": {
   "codemirror_mode": {
    "name": "ipython",
    "version": 3
   },
   "file_extension": ".py",
   "mimetype": "text/x-python",
   "name": "python",
   "nbconvert_exporter": "python",
   "pygments_lexer": "ipython3",
   "version": "3.9.4"
  }
 },
 "nbformat": 4,
 "nbformat_minor": 5
}
